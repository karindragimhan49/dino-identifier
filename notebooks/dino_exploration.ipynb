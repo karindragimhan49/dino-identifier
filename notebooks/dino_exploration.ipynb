{
 "cells": [
  {
   "cell_type": "code",
   "execution_count": 9,
   "id": "fd614c20",
   "metadata": {},
   "outputs": [],
   "source": [
    "# --- 1. Import The Paleontologist's Tools (Libraries) ---\n",
    "import pandas as pd\n",
    "import numpy as np\n",
    "import seaborn as sns\n",
    "import matplotlib.pyplot as plt\n",
    "\n",
    "# Scikit-learn for modeling\n",
    "from sklearn.model_selection import train_test_split\n",
    "from sklearn.ensemble import RandomForestClassifier\n",
    "from sklearn.metrics import accuracy_score, confusion_matrix, classification_report"
   ]
  },
  {
   "cell_type": "code",
   "execution_count": 10,
   "id": "18bdd54b",
   "metadata": {},
   "outputs": [
    {
     "name": "stdout",
     "output_type": "stream",
     "text": [
      "--- First 5 records ---\n",
      "   occurrence_no               name         diet            type  length_m  \\\n",
      "0         130294  Protarchaeopteryx   omnivorous  small theropod       2.0   \n",
      "1         130295        Caudipteryx   omnivorous  small theropod       1.0   \n",
      "2         139242        Gorgosaurus  carnivorous  large theropod       8.6   \n",
      "3         139250        Gorgosaurus  carnivorous  large theropod       8.6   \n",
      "4         139252        Gorgosaurus  carnivorous  large theropod       8.6   \n",
      "\n",
      "   max_ma  min_ma    region         lng        lat       class  \\\n",
      "0   130.0  122.46  Liaoning  120.733330  41.799999  Saurischia   \n",
      "1   130.0  122.46  Liaoning  120.733330  41.799999  Saurischia   \n",
      "2    83.5   70.60   Alberta -111.528732  50.740726  Saurischia   \n",
      "3    83.5   70.60   Alberta -111.549347  50.737015  Saurischia   \n",
      "4    83.5   70.60   Alberta -111.564636  50.723866  Saurischia   \n",
      "\n",
      "              family  \n",
      "0  Archaeopterygidae  \n",
      "1    Caudipterygidae  \n",
      "2    Tyrannosauridae  \n",
      "3    Tyrannosauridae  \n",
      "4    Tyrannosauridae  \n",
      "\n",
      "--- Dataset Info ---\n",
      "<class 'pandas.core.frame.DataFrame'>\n",
      "RangeIndex: 4951 entries, 0 to 4950\n",
      "Data columns (total 12 columns):\n",
      " #   Column         Non-Null Count  Dtype  \n",
      "---  ------         --------------  -----  \n",
      " 0   occurrence_no  4951 non-null   int64  \n",
      " 1   name           4951 non-null   object \n",
      " 2   diet           3596 non-null   object \n",
      " 3   type           3596 non-null   object \n",
      " 4   length_m       3568 non-null   float64\n",
      " 5   max_ma         4951 non-null   float64\n",
      " 6   min_ma         4951 non-null   float64\n",
      " 7   region         4909 non-null   object \n",
      " 8   lng            4951 non-null   float64\n",
      " 9   lat            4951 non-null   float64\n",
      " 10  class          4951 non-null   object \n",
      " 11  family         3494 non-null   object \n",
      "dtypes: float64(5), int64(1), object(6)\n",
      "memory usage: 464.3+ KB\n"
     ]
    }
   ],
   "source": [
    "\n",
    "# --- 2. Load the Fossil Records (Dataset) ---\n",
    "file_path = '../data/dinosaur.csv'\n",
    "df = pd.read_csv(file_path)\n",
    "\n",
    "# --- 3. Initial Inspection of the Site ---\n",
    "print(\"--- First 5 records ---\")\n",
    "print(df.head())\n",
    "\n",
    "print(\"\\n--- Dataset Info ---\")\n",
    "df.info()"
   ]
  },
  {
   "cell_type": "code",
   "execution_count": 11,
   "id": "c975106f",
   "metadata": {},
   "outputs": [
    {
     "name": "stdout",
     "output_type": "stream",
     "text": [
      "\n",
      "Original number of records: 4951\n",
      "Records after cleaning diet: 3384\n",
      "\n",
      "Using features: ['length_m', 'max_ma', 'min_ma']\n",
      "\n",
      "--- Missing values in our features ---\n",
      "length_m    28\n",
      "max_ma       0\n",
      "min_ma       0\n",
      "dtype: int64\n",
      "\n",
      "Missing value check complete.\n"
     ]
    },
    {
     "name": "stderr",
     "output_type": "stream",
     "text": [
      "C:\\Users\\acer\\AppData\\Local\\Temp\\ipykernel_23412\\2857454148.py:25: FutureWarning: A value is trying to be set on a copy of a DataFrame or Series through chained assignment using an inplace method.\n",
      "The behavior will change in pandas 3.0. This inplace method will never work because the intermediate object on which we are setting values always behaves as a copy.\n",
      "\n",
      "For example, when doing 'df[col].method(value, inplace=True)', try using 'df.method({col: value}, inplace=True)' or df[col] = df[col].method(value) instead, to perform the operation inplace on the original object.\n",
      "\n",
      "\n",
      "  df[col].fillna(median_val, inplace=True)\n",
      "C:\\Users\\acer\\AppData\\Local\\Temp\\ipykernel_23412\\2857454148.py:25: FutureWarning: A value is trying to be set on a copy of a DataFrame or Series through chained assignment using an inplace method.\n",
      "The behavior will change in pandas 3.0. This inplace method will never work because the intermediate object on which we are setting values always behaves as a copy.\n",
      "\n",
      "For example, when doing 'df[col].method(value, inplace=True)', try using 'df.method({col: value}, inplace=True)' or df[col] = df[col].method(value) instead, to perform the operation inplace on the original object.\n",
      "\n",
      "\n",
      "  df[col].fillna(median_val, inplace=True)\n",
      "C:\\Users\\acer\\AppData\\Local\\Temp\\ipykernel_23412\\2857454148.py:25: FutureWarning: A value is trying to be set on a copy of a DataFrame or Series through chained assignment using an inplace method.\n",
      "The behavior will change in pandas 3.0. This inplace method will never work because the intermediate object on which we are setting values always behaves as a copy.\n",
      "\n",
      "For example, when doing 'df[col].method(value, inplace=True)', try using 'df.method({col: value}, inplace=True)' or df[col] = df[col].method(value) instead, to perform the operation inplace on the original object.\n",
      "\n",
      "\n",
      "  df[col].fillna(median_val, inplace=True)\n"
     ]
    }
   ],
   "source": [
    "# --- 4. Cleaning the Fossil Data (Preprocessing) ---\n",
    "\n",
    "# Step 4.1: Rename columns to remove potential spaces and use easier names\n",
    "# Some CSV files have leading spaces in column names. This is a safe step.\n",
    "df.columns = df.columns.str.strip()\n",
    "\n",
    "# Step 4.2: Remove rows where 'diet' is unknown or 'omnivorous'\n",
    "print(f\"\\nOriginal number of records: {len(df)}\")\n",
    "df.dropna(subset=['diet'], inplace=True)\n",
    "df = df[df['diet'].isin(['carnivorous', 'herbivorous'])]\n",
    "print(f\"Records after cleaning diet: {len(df)}\")\n",
    "\n",
    "\n",
    "# Step 4.3: Define the features we WILL ACTUALLY USE from your CSV file\n",
    "# Based on your sample data, these columns exist:\n",
    "numerical_features = ['length_m', 'max_ma', 'min_ma'] \n",
    "print(f\"\\nUsing features: {numerical_features}\")\n",
    "\n",
    "# Step 4.4: Check for and fill missing values in these specific columns\n",
    "print(\"\\n--- Missing values in our features ---\")\n",
    "print(df[numerical_features].isnull().sum())\n",
    "\n",
    "for col in numerical_features:\n",
    "    median_val = df[col].median()\n",
    "    df[col].fillna(median_val, inplace=True)\n",
    "\n",
    "print(\"\\nMissing value check complete.\")\n"
   ]
  },
  {
   "cell_type": "code",
   "execution_count": 12,
   "id": "21ecd172",
   "metadata": {},
   "outputs": [
    {
     "name": "stderr",
     "output_type": "stream",
     "text": [
      "C:\\Users\\acer\\AppData\\Local\\Temp\\ipykernel_23412\\2068838008.py:6: FutureWarning: \n",
      "\n",
      "Passing `palette` without assigning `hue` is deprecated and will be removed in v0.14.0. Assign the `x` variable to `hue` and set `legend=False` for the same effect.\n",
      "\n",
      "  sns.countplot(x='diet', data=df, palette=['#e74c3c', '#2ecc71'])\n"
     ]
    },
    {
     "data": {
      "image/png": "[encoded data removed]",
      "text/plain": [
       "<Figure size 800x600 with 1 Axes>"
      ]
     },
     "metadata": {},
     "output_type": "display_data"
    },
    {
     "name": "stderr",
     "output_type": "stream",
     "text": [
      "C:\\Users\\acer\\AppData\\Local\\Temp\\ipykernel_23412\\2068838008.py:12: FutureWarning: \n",
      "\n",
      "Passing `palette` without assigning `hue` is deprecated and will be removed in v0.14.0. Assign the `x` variable to `hue` and set `legend=False` for the same effect.\n",
      "\n",
      "  sns.boxplot(x='diet', y='length_m', data=df, palette=['#e74c3c', '#2ecc71'])\n"
     ]
    },
    {
     "data": {
      "image/png": "[encoded data removed]",
      "text/plain": [
       "<Figure size 1000x700 with 1 Axes>"
      ]
     },
     "metadata": {},
     "output_type": "display_data"
    }
   ],
   "source": [
    "# --- 5. The Paleontologist's Detective Work (EDA) ---\n",
    "plt.style.use('seaborn-v0_8-whitegrid')\n",
    "\n",
    "# Q1: How many carnivores vs herbivores do we have?\n",
    "plt.figure(figsize=(8, 6))\n",
    "sns.countplot(x='diet', data=df, palette=['#e74c3c', '#2ecc71'])\n",
    "plt.title('Number of Carnivores vs. Herbivores')\n",
    "plt.show()\n",
    "\n",
    "# Q2: How does length differ by diet?\n",
    "plt.figure(figsize=(10, 7))\n",
    "sns.boxplot(x='diet', y='length_m', data=df, palette=['#e74c3c', '#2ecc71'])\n",
    "plt.title('Length (m) Distribution by Diet')\n",
    "plt.show()\n"
   ]
  },
  {
   "cell_type": "code",
   "execution_count": 13,
   "id": "6cea6bc9",
   "metadata": {},
   "outputs": [
    {
     "name": "stdout",
     "output_type": "stream",
     "text": [
      "\n",
      "--- Features (X) for the model ---\n",
      "   length_m  max_ma  min_ma\n",
      "2       8.6    83.5    70.6\n",
      "3       8.6    83.5    70.6\n",
      "4       8.6    83.5    70.6\n",
      "5       8.6    83.5    70.6\n",
      "6       8.6    83.5    70.6\n"
     ]
    }
   ],
   "source": [
    "# --- 6. Preparing for Prediction (Feature Engineering) ---\n",
    "df['diet_numeric'] = df['diet'].apply(lambda x: 1 if x == 'carnivorous' else 0)\n",
    "\n",
    "# Select our CORRECTED features (X) and target (y)\n",
    "features = ['length_m', 'max_ma', 'min_ma']\n",
    "target = 'diet_numeric'\n",
    "\n",
    "X = df[features]\n",
    "y = df[target]\n",
    "\n",
    "print(\"\\n--- Features (X) for the model ---\")\n",
    "print(X.head())"
   ]
  },
  {
   "cell_type": "code",
   "execution_count": 14,
   "id": "d8527c42",
   "metadata": {},
   "outputs": [
    {
     "name": "stdout",
     "output_type": "stream",
     "text": [
      "\n",
      "Model training complete!\n"
     ]
    }
   ],
   "source": [
    "# --- 7. Building the Dino-Identifier Model ---\n",
    "X_train, X_test, y_train, y_test = train_test_split(X, y, test_size=0.2, random_state=42, stratify=y)\n",
    "model = RandomForestClassifier(n_estimators=100, random_state=42)\n",
    "model.fit(X_train, y_train)\n",
    "print(\"\\nModel training complete!\")\n"
   ]
  },
  {
   "cell_type": "code",
   "execution_count": 15,
   "id": "422aea05",
   "metadata": {},
   "outputs": [
    {
     "name": "stdout",
     "output_type": "stream",
     "text": [
      "\n",
      "Model Accuracy: 88.77%\n",
      "\n",
      "Classification Report:\n",
      "               precision    recall  f1-score   support\n",
      "\n",
      "Herbivore (0)       0.91      0.91      0.91       415\n",
      "Carnivore (1)       0.86      0.85      0.85       262\n",
      "\n",
      "     accuracy                           0.89       677\n",
      "    macro avg       0.88      0.88      0.88       677\n",
      " weighted avg       0.89      0.89      0.89       677\n",
      "\n",
      "\n",
      "Confusion Matrix:\n"
     ]
    },
    {
     "data": {
      "image/png": "[encoded data removed]",
      "text/plain": [
       "<Figure size 640x480 with 2 Axes>"
      ]
     },
     "metadata": {},
     "output_type": "display_data"
    }
   ],
   "source": [
    "# --- 8. Evaluating the Model's Performance ---\n",
    "y_pred = model.predict(X_test)\n",
    "accuracy = accuracy_score(y_test, y_pred)\n",
    "print(f\"\\nModel Accuracy: {accuracy * 100:.2f}%\")\n",
    "\n",
    "print(\"\\nClassification Report:\")\n",
    "print(classification_report(y_test, y_pred, target_names=['Herbivore (0)', 'Carnivore (1)']))\n",
    "\n",
    "print(\"\\nConfusion Matrix:\")\n",
    "cm = confusion_matrix(y_test, y_pred)\n",
    "sns.heatmap(cm, annot=True, fmt='d', cmap='Blues', xticklabels=['Herbivore', 'Carnivore'], yticklabels=['Herbivore', 'Carnivore'])\n",
    "plt.xlabel('Predicted')\n",
    "plt.ylabel('Actual')\n",
    "plt.show()"
   ]
  },
  {
   "cell_type": "code",
   "execution_count": 17,
   "id": "a221eff8",
   "metadata": {},
   "outputs": [
    {
     "name": "stdout",
     "output_type": "stream",
     "text": [
      "Model saved successfully to: ../models/dino_identifier_model.joblib\n"
     ]
    }
   ],
   "source": [
    "import joblib\n",
    "import os\n",
    "\n",
    " \n",
    "os.makedirs('../models', exist_ok=True) \n",
    " \n",
    "model_filename = '../models/dino_identifier_model.joblib'\n",
    "joblib.dump(model, model_filename)\n",
    "\n",
    "print(f\"Model saved successfully to: {model_filename}\")"
   ]
  },
  {
   "cell_type": "code",
   "execution_count": null,
   "id": "1bf28212",
   "metadata": {},
   "outputs": [],
   "source": []
  }
 ],
 "metadata": {
  "kernelspec": {
   "display_name": "venv",
   "language": "python",
   "name": "python3"
  },
  "language_info": {
   "codemirror_mode": {
    "name": "ipython",
    "version": 3
   },
   "file_extension": ".py",
   "mimetype": "text/x-python",
   "name": "python",
   "nbconvert_exporter": "python",
   "pygments_lexer": "ipython3",
   "version": "3.12.10"
  }
 },
 "nbformat": 4,
 "nbformat_minor": 5
}
